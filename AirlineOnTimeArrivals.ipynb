{
 "cells": [
  {
   "cell_type": "markdown",
   "metadata": {},
   "source": [
    "##Fellowship Challenge - Airline On-Time Arrivals\n",
    "\n",
    "Use the US Dept. of Transportation on-time arrival data for non-stop domestic flights by major air carriers to predict arrival delays.\n",
    "\n",
    "Objectives:\n",
    "1) Build a binary classification model for predicting arrival delays\n",
    "2) Build a regression model that predicts the extent of the delay\n",
    "\n",
    "<i>NB: Do not use departure delay as an input feature.</i>"
   ]
  },
  {
   "cell_type": "code",
   "execution_count": 1,
   "metadata": {
    "collapsed": false
   },
   "outputs": [
    {
     "name": "stdout",
     "output_type": "stream",
     "text": [
      "Once deleted, variables cannot be recovered. Proceed (y/[n])? y\n"
     ]
    }
   ],
   "source": [
    "%reset"
   ]
  },
  {
   "cell_type": "code",
   "execution_count": 2,
   "metadata": {
    "collapsed": true
   },
   "outputs": [],
   "source": [
    "import numpy as np\n",
    "import pandas as pd\n",
    "from matplotlib import pyplot as plt\n",
    "from sklearn.cross_validation import train_test_split\n",
    "from sklearn.tree import DecisionTreeClassifier\n",
    "from sklearn import linear_model\n",
    "from sklearn.metrics import accuracy_score\n",
    "from sklearn.feature_extraction import DictVectorizer\n",
    "from sklearn.metrics import confusion_matrix\n",
    "%matplotlib inline\n"
   ]
  },
  {
   "cell_type": "code",
   "execution_count": 3,
   "metadata": {
    "collapsed": false
   },
   "outputs": [
    {
     "data": {
      "text/plain": [
       "((445827, 7), (445827, 8), (445827, 20))"
      ]
     },
     "execution_count": 3,
     "metadata": {},
     "output_type": "execute_result"
    }
   ],
   "source": [
    "# import data\n",
    "Delay_cause = pd.read_csv('Delay_cause.csv')\n",
    "Flight_summary = pd.read_csv('Flight_summary.csv')\n",
    "Origin_Dest = pd.read_csv('Origin_Dest.csv')\n",
    "Delay_cause.shape, Flight_summary.shape, Origin_Dest.shape"
   ]
  },
  {
   "cell_type": "code",
   "execution_count": 4,
   "metadata": {
    "collapsed": false
   },
   "outputs": [
    {
     "data": {
      "text/plain": [
       "((445827, 8), (445827, 13))"
      ]
     },
     "execution_count": 4,
     "metadata": {},
     "output_type": "execute_result"
    }
   ],
   "source": [
    "# Create new variables\n",
    "# TOTAL_DELAY = sum of delays\n",
    "Flight_summary['TOTAL_DELAY'] = Delay_cause['CARRIER_DELAY'] + Delay_cause['WEATHER_DELAY'] + Delay_cause['NAS_DELAY'] + Delay_cause['SECURITY_DELAY'] + Delay_cause['LATE_AIRCRAFT_DELAY']\n",
    "# Speed = Distance / Time\n",
    "\n",
    "# OCC = Any Delay above 0 minutes\n",
    "OCC = np.zeros(np.size(Flight_summary['TOTAL_DELAY']))\n",
    "Delay = np.where(Flight_summary['TOTAL_DELAY'] >= 0)\n",
    "OCC[Delay] = 1\n",
    "Delay_cause['OCC'] = OCC\n",
    "\n",
    "Flight_summary['SPEED'] = Flight_summary['DISTANCE']/Flight_summary['AIR_TIME']\n",
    "# AET-AT: Difference between ACTUAL_ELAPSED_TIME and AIR_TIME\n",
    "Flight_summary['AET-AT'] = Flight_summary['ACTUAL_ELAPSED_TIME'] - Flight_summary['AIR_TIME']\n",
    "# CET-AT: Difference between CRS_ELAPSED_TIME and AIR_TIME\n",
    "Flight_summary['CET-AT'] = Flight_summary['CRS_ELAPSED_TIME'] - Flight_summary['AIR_TIME']\n",
    "# CET-AET: Difference between CRS_ELAPSED_TIME and ACTUAL_ELAPSED_TIME\n",
    "Flight_summary['CET-AET'] = Flight_summary['CRS_ELAPSED_TIME'] - Flight_summary['ACTUAL_ELAPSED_TIME']\n",
    "Delay_cause.shape, Flight_summary.shape"
   ]
  },
  {
   "cell_type": "code",
   "execution_count": 5,
   "metadata": {
    "collapsed": false
   },
   "outputs": [
    {
     "data": {
      "text/plain": [
       "(  UNIQUE_CARRIER  CARRIER_DELAY  WEATHER_DELAY  NAS_DELAY  SECURITY_DELAY  \\\n",
       " 0             AA            NaN            NaN        NaN             NaN   \n",
       " 1             AA            NaN            NaN        NaN             NaN   \n",
       " 2             AA            NaN            NaN        NaN             NaN   \n",
       " 3             AA            NaN            NaN        NaN             NaN   \n",
       " 4             AA              0              0         47               0   \n",
       " \n",
       "    LATE_AIRCRAFT_DELAY  Unnamed: 6  OCC  \n",
       " 0                  NaN         NaN    0  \n",
       " 1                  NaN         NaN    0  \n",
       " 2                  NaN         NaN    0  \n",
       " 3                  NaN         NaN    0  \n",
       " 4                   66         NaN    1  ,\n",
       "   UNIQUE_CARRIER  CRS_ELAPSED_TIME  ACTUAL_ELAPSED_TIME  AIR_TIME  FLIGHTS  \\\n",
       " 0             AA               158                  155       132        1   \n",
       " 1             AA               158                  150       126        1   \n",
       " 2             AA               158                  170       135        1   \n",
       " 3             AA               158                  151       129        1   \n",
       " 4             AA               158                  171       137        1   \n",
       " \n",
       "    DISTANCE  DISTANCE_GROUP  Unnamed: 7  TOTAL_DELAY     SPEED  AET-AT  \\\n",
       " 0       986               4         NaN          NaN  7.469697      23   \n",
       " 1       986               4         NaN          NaN  7.825397      24   \n",
       " 2       986               4         NaN          NaN  7.303704      35   \n",
       " 3       986               4         NaN          NaN  7.643411      22   \n",
       " 4       986               4         NaN          113  7.197080      34   \n",
       " \n",
       "    CET-AT  CET-AET  \n",
       " 0      26        3  \n",
       " 1      32        8  \n",
       " 2      23      -12  \n",
       " 3      29        7  \n",
       " 4      21      -13  ,\n",
       "   UNIQUE_CARRIER  ORIGIN_AIRPORT_ID  ORIGIN_AIRPORT_SEQ_ID  \\\n",
       " 0             AA              11298                1129804   \n",
       " 1             AA              11298                1129804   \n",
       " 2             AA              11298                1129804   \n",
       " 3             AA              11298                1129804   \n",
       " 4             AA              11298                1129804   \n",
       " \n",
       "    ORIGIN_CITY_MARKET_ID ORIGIN       ORIGIN_CITY_NAME ORIGIN_STATE_ABR  \\\n",
       " 0                  30194    DFW  Dallas/Fort Worth, TX               TX   \n",
       " 1                  30194    DFW  Dallas/Fort Worth, TX               TX   \n",
       " 2                  30194    DFW  Dallas/Fort Worth, TX               TX   \n",
       " 3                  30194    DFW  Dallas/Fort Worth, TX               TX   \n",
       " 4                  30194    DFW  Dallas/Fort Worth, TX               TX   \n",
       " \n",
       "    ORIGIN_STATE_FIPS ORIGIN_STATE_NM  ORIGIN_WAC  DEST_AIRPORT_ID  \\\n",
       " 0                 48           Texas          74            11433   \n",
       " 1                 48           Texas          74            11433   \n",
       " 2                 48           Texas          74            11433   \n",
       " 3                 48           Texas          74            11433   \n",
       " 4                 48           Texas          74            11433   \n",
       " \n",
       "    DEST_AIRPORT_SEQ_ID  DEST_CITY_MARKET_ID DEST DEST_CITY_NAME  \\\n",
       " 0              1143302                31295  DTW    Detroit, MI   \n",
       " 1              1143302                31295  DTW    Detroit, MI   \n",
       " 2              1143302                31295  DTW    Detroit, MI   \n",
       " 3              1143302                31295  DTW    Detroit, MI   \n",
       " 4              1143302                31295  DTW    Detroit, MI   \n",
       " \n",
       "   DEST_STATE_ABR  DEST_STATE_FIPS DEST_STATE_NM  DEST_WAC  Unnamed: 19  \n",
       " 0             MI               26      Michigan        43          NaN  \n",
       " 1             MI               26      Michigan        43          NaN  \n",
       " 2             MI               26      Michigan        43          NaN  \n",
       " 3             MI               26      Michigan        43          NaN  \n",
       " 4             MI               26      Michigan        43          NaN  )"
      ]
     },
     "execution_count": 5,
     "metadata": {},
     "output_type": "execute_result"
    }
   ],
   "source": [
    "Delay_cause.head(), Flight_summary.head(), Origin_Dest.head()"
   ]
  },
  {
   "cell_type": "code",
   "execution_count": 6,
   "metadata": {
    "collapsed": false,
    "scrolled": false
   },
   "outputs": [
    {
     "data": {
      "text/plain": [
       "((445827, 12), (445827, 294), (445827, 294))"
      ]
     },
     "execution_count": 6,
     "metadata": {},
     "output_type": "execute_result"
    }
   ],
   "source": [
    "# Feature_extraction, change categorical data into vector\n",
    "# Carrier \n",
    "UC = Origin_Dest[['UNIQUE_CARRIER']]\n",
    "UC_x = [dict(r.iteritems()) for _, r in UC.iterrows()]\n",
    "#UC.to_dict().values()\n",
    "vect = DictVectorizer(sparse=False)\n",
    "UC_v = vect.fit_transform(UC_x)\n",
    "\n",
    "#np.sum(UC_v,axis=0) # Check the number of flights by carrier\n",
    "\n",
    "# Origin\n",
    "OR = Origin_Dest[['ORIGIN']]\n",
    "OR_x = [dict(r.iteritems()) for _, r in OR.iterrows()]\n",
    "OR_v = vect.fit_transform(OR_x)\n",
    "\n",
    "# DEST\n",
    "DE = Origin_Dest[['DEST']]\n",
    "DE_x = [dict(r.iteritems()) for _, r in DE.iterrows()]\n",
    "DE_v = vect.fit_transform(DE_x)\n",
    "\n",
    "UC_v.shape,OR_v.shape, DE_v.shape"
   ]
  },
  {
   "cell_type": "code",
   "execution_count": 7,
   "metadata": {
    "collapsed": false
   },
   "outputs": [],
   "source": [
    "# Put the categorical data back to a dataframe format\n",
    "UNIQUE_CARRIER_x = pd.DataFrame(UC_v)\n",
    "ORIGIN_x = pd.DataFrame(OR_v)\n",
    "DEST_x = pd.DataFrame(DE_v)\n",
    "#UNIQUE_CARRIER_x.head()\n",
    "#ORIGIN_x.head()"
   ]
  },
  {
   "cell_type": "code",
   "execution_count": 14,
   "metadata": {
    "collapsed": false
   },
   "outputs": [
    {
     "data": {
      "text/plain": [
       "((356661, 605), (89166, 605), (356661, 1), (89166, 1))"
      ]
     },
     "execution_count": 14,
     "metadata": {},
     "output_type": "execute_result"
    }
   ],
   "source": [
    "# Prepare Predictors and Predictand (delay occurrence)\n",
    "Por1 = Flight_summary[['AIR_TIME','DISTANCE','SPEED','CET-AT','AET-AT']]\n",
    "Predictors = pd.concat([Por1, UNIQUE_CARRIER_x,ORIGIN_x,DEST_x], axis=1)\n",
    "#Predictors.shape\n",
    "# Prepare \n",
    "Predictand = Delay_cause[['OCC']]\n",
    "# Split the data, 80% for training, 20% for testing\n",
    "PredictorsTrain, PredictorsTest, PredictandTrain, PredictandTest = train_test_split(Predictors, Predictand, test_size = 0.2)\n",
    "PredictorsTrain.shape, PredictorsTest.shape, PredictandTrain.shape, PredictandTest.shape"
   ]
  },
  {
   "cell_type": "code",
   "execution_count": 9,
   "metadata": {
    "collapsed": false
   },
   "outputs": [
    {
     "ename": "ValueError",
     "evalue": "Input contains NaN, infinity or a value too large for dtype('float32').",
     "output_type": "error",
     "traceback": [
      "\u001b[0;31m---------------------------------------------------------------------------\u001b[0m",
      "\u001b[0;31mValueError\u001b[0m                                Traceback (most recent call last)",
      "\u001b[0;32m<ipython-input-9-82b34da2224e>\u001b[0m in \u001b[0;36m<module>\u001b[0;34m()\u001b[0m\n\u001b[1;32m      1\u001b[0m \u001b[0;31m# Create model to predict delay case\u001b[0m\u001b[0;34m\u001b[0m\u001b[0;34m\u001b[0m\u001b[0m\n\u001b[1;32m      2\u001b[0m \u001b[0mmodel1\u001b[0m \u001b[0;34m=\u001b[0m \u001b[0mDecisionTreeClassifier\u001b[0m\u001b[0;34m(\u001b[0m\u001b[0;34m)\u001b[0m\u001b[0;34m\u001b[0m\u001b[0m\n\u001b[0;32m----> 3\u001b[0;31m \u001b[0mmodel1\u001b[0m\u001b[0;34m.\u001b[0m\u001b[0mfit\u001b[0m\u001b[0;34m(\u001b[0m\u001b[0mPredictorsTrain\u001b[0m\u001b[0;34m,\u001b[0m \u001b[0mPredictandTrain\u001b[0m\u001b[0;34m)\u001b[0m\u001b[0;34m\u001b[0m\u001b[0m\n\u001b[0m\u001b[1;32m      4\u001b[0m \u001b[0mResult1_Train\u001b[0m \u001b[0;34m=\u001b[0m \u001b[0mmodel1\u001b[0m\u001b[0;34m.\u001b[0m\u001b[0mpredict\u001b[0m\u001b[0;34m(\u001b[0m\u001b[0mPredictorsTrain\u001b[0m\u001b[0;34m)\u001b[0m\u001b[0;34m\u001b[0m\u001b[0m\n\u001b[1;32m      5\u001b[0m \u001b[0mResult1_Test\u001b[0m \u001b[0;34m=\u001b[0m \u001b[0mmodel1\u001b[0m\u001b[0;34m.\u001b[0m\u001b[0mpredict\u001b[0m\u001b[0;34m(\u001b[0m\u001b[0mPredictorsTest\u001b[0m\u001b[0;34m)\u001b[0m\u001b[0;34m\u001b[0m\u001b[0m\n",
      "\u001b[0;32m/Users/calvincheung/anaconda/lib/python3.4/site-packages/sklearn/tree/tree.py\u001b[0m in \u001b[0;36mfit\u001b[0;34m(self, X, y, sample_weight, check_input)\u001b[0m\n\u001b[1;32m    136\u001b[0m         \u001b[0mrandom_state\u001b[0m \u001b[0;34m=\u001b[0m \u001b[0mcheck_random_state\u001b[0m\u001b[0;34m(\u001b[0m\u001b[0mself\u001b[0m\u001b[0;34m.\u001b[0m\u001b[0mrandom_state\u001b[0m\u001b[0;34m)\u001b[0m\u001b[0;34m\u001b[0m\u001b[0m\n\u001b[1;32m    137\u001b[0m         \u001b[0;32mif\u001b[0m \u001b[0mcheck_input\u001b[0m\u001b[0;34m:\u001b[0m\u001b[0;34m\u001b[0m\u001b[0m\n\u001b[0;32m--> 138\u001b[0;31m             \u001b[0mX\u001b[0m \u001b[0;34m=\u001b[0m \u001b[0mcheck_array\u001b[0m\u001b[0;34m(\u001b[0m\u001b[0mX\u001b[0m\u001b[0;34m,\u001b[0m \u001b[0mdtype\u001b[0m\u001b[0;34m=\u001b[0m\u001b[0mDTYPE\u001b[0m\u001b[0;34m,\u001b[0m \u001b[0maccept_sparse\u001b[0m\u001b[0;34m=\u001b[0m\u001b[0;34m\"csc\"\u001b[0m\u001b[0;34m)\u001b[0m\u001b[0;34m\u001b[0m\u001b[0m\n\u001b[0m\u001b[1;32m    139\u001b[0m             \u001b[0;32mif\u001b[0m \u001b[0missparse\u001b[0m\u001b[0;34m(\u001b[0m\u001b[0mX\u001b[0m\u001b[0;34m)\u001b[0m\u001b[0;34m:\u001b[0m\u001b[0;34m\u001b[0m\u001b[0m\n\u001b[1;32m    140\u001b[0m                 \u001b[0mX\u001b[0m\u001b[0;34m.\u001b[0m\u001b[0msort_indices\u001b[0m\u001b[0;34m(\u001b[0m\u001b[0;34m)\u001b[0m\u001b[0;34m\u001b[0m\u001b[0m\n",
      "\u001b[0;32m/Users/calvincheung/anaconda/lib/python3.4/site-packages/sklearn/utils/validation.py\u001b[0m in \u001b[0;36mcheck_array\u001b[0;34m(array, accept_sparse, dtype, order, copy, force_all_finite, ensure_2d, allow_nd, ensure_min_samples, ensure_min_features)\u001b[0m\n\u001b[1;32m    350\u001b[0m                              array.ndim)\n\u001b[1;32m    351\u001b[0m         \u001b[0;32mif\u001b[0m \u001b[0mforce_all_finite\u001b[0m\u001b[0;34m:\u001b[0m\u001b[0;34m\u001b[0m\u001b[0m\n\u001b[0;32m--> 352\u001b[0;31m             \u001b[0m_assert_all_finite\u001b[0m\u001b[0;34m(\u001b[0m\u001b[0marray\u001b[0m\u001b[0;34m)\u001b[0m\u001b[0;34m\u001b[0m\u001b[0m\n\u001b[0m\u001b[1;32m    353\u001b[0m \u001b[0;34m\u001b[0m\u001b[0m\n\u001b[1;32m    354\u001b[0m     \u001b[0mshape_repr\u001b[0m \u001b[0;34m=\u001b[0m \u001b[0m_shape_repr\u001b[0m\u001b[0;34m(\u001b[0m\u001b[0marray\u001b[0m\u001b[0;34m.\u001b[0m\u001b[0mshape\u001b[0m\u001b[0;34m)\u001b[0m\u001b[0;34m\u001b[0m\u001b[0m\n",
      "\u001b[0;32m/Users/calvincheung/anaconda/lib/python3.4/site-packages/sklearn/utils/validation.py\u001b[0m in \u001b[0;36m_assert_all_finite\u001b[0;34m(X)\u001b[0m\n\u001b[1;32m     50\u001b[0m             and not np.isfinite(X).all()):\n\u001b[1;32m     51\u001b[0m         raise ValueError(\"Input contains NaN, infinity\"\n\u001b[0;32m---> 52\u001b[0;31m                          \" or a value too large for %r.\" % X.dtype)\n\u001b[0m\u001b[1;32m     53\u001b[0m \u001b[0;34m\u001b[0m\u001b[0m\n\u001b[1;32m     54\u001b[0m \u001b[0;34m\u001b[0m\u001b[0m\n",
      "\u001b[0;31mValueError\u001b[0m: Input contains NaN, infinity or a value too large for dtype('float32')."
     ]
    }
   ],
   "source": [
    "# Create model to predict delay case\n",
    "model1 = DecisionTreeClassifier()\n",
    "model1.fit(PredictorsTrain, PredictandTrain)\n",
    "Result1_Train = model1.predict(PredictorsTrain)\n",
    "Result1_Test = model1.predict(PredictorsTest)"
   ]
  },
  {
   "cell_type": "code",
   "execution_count": 10,
   "metadata": {
    "collapsed": true
   },
   "outputs": [],
   "source": [
    "# Performance Validation"
   ]
  },
  {
   "cell_type": "code",
   "execution_count": 40,
   "metadata": {
    "collapsed": false
   },
   "outputs": [
    {
     "data": {
      "text/html": [
       "<div>\n",
       "<table border=\"1\" class=\"dataframe\">\n",
       "  <thead>\n",
       "    <tr style=\"text-align: right;\">\n",
       "      <th></th>\n",
       "      <th>AIR_TIME</th>\n",
       "      <th>DISTANCE</th>\n",
       "      <th>SPEED</th>\n",
       "      <th>CET-AT</th>\n",
       "      <th>AET-AT</th>\n",
       "      <th>0</th>\n",
       "      <th>1</th>\n",
       "      <th>2</th>\n",
       "      <th>3</th>\n",
       "      <th>4</th>\n",
       "      <th>...</th>\n",
       "      <th>285</th>\n",
       "      <th>286</th>\n",
       "      <th>287</th>\n",
       "      <th>288</th>\n",
       "      <th>289</th>\n",
       "      <th>290</th>\n",
       "      <th>291</th>\n",
       "      <th>292</th>\n",
       "      <th>293</th>\n",
       "      <th>TD</th>\n",
       "    </tr>\n",
       "  </thead>\n",
       "  <tbody>\n",
       "    <tr>\n",
       "      <th>4</th>\n",
       "      <td>137</td>\n",
       "      <td>986</td>\n",
       "      <td>7.197080</td>\n",
       "      <td>21</td>\n",
       "      <td>34</td>\n",
       "      <td>1</td>\n",
       "      <td>0</td>\n",
       "      <td>0</td>\n",
       "      <td>0</td>\n",
       "      <td>0</td>\n",
       "      <td>...</td>\n",
       "      <td>0</td>\n",
       "      <td>0</td>\n",
       "      <td>0</td>\n",
       "      <td>0</td>\n",
       "      <td>0</td>\n",
       "      <td>0</td>\n",
       "      <td>0</td>\n",
       "      <td>0</td>\n",
       "      <td>0</td>\n",
       "      <td>113</td>\n",
       "    </tr>\n",
       "    <tr>\n",
       "      <th>15</th>\n",
       "      <td>123</td>\n",
       "      <td>986</td>\n",
       "      <td>8.016260</td>\n",
       "      <td>35</td>\n",
       "      <td>22</td>\n",
       "      <td>1</td>\n",
       "      <td>0</td>\n",
       "      <td>0</td>\n",
       "      <td>0</td>\n",
       "      <td>0</td>\n",
       "      <td>...</td>\n",
       "      <td>0</td>\n",
       "      <td>0</td>\n",
       "      <td>0</td>\n",
       "      <td>0</td>\n",
       "      <td>0</td>\n",
       "      <td>0</td>\n",
       "      <td>0</td>\n",
       "      <td>0</td>\n",
       "      <td>0</td>\n",
       "      <td>21</td>\n",
       "    </tr>\n",
       "    <tr>\n",
       "      <th>22</th>\n",
       "      <td>147</td>\n",
       "      <td>986</td>\n",
       "      <td>6.707483</td>\n",
       "      <td>11</td>\n",
       "      <td>26</td>\n",
       "      <td>1</td>\n",
       "      <td>0</td>\n",
       "      <td>0</td>\n",
       "      <td>0</td>\n",
       "      <td>0</td>\n",
       "      <td>...</td>\n",
       "      <td>0</td>\n",
       "      <td>0</td>\n",
       "      <td>0</td>\n",
       "      <td>0</td>\n",
       "      <td>0</td>\n",
       "      <td>0</td>\n",
       "      <td>0</td>\n",
       "      <td>0</td>\n",
       "      <td>0</td>\n",
       "      <td>15</td>\n",
       "    </tr>\n",
       "    <tr>\n",
       "      <th>24</th>\n",
       "      <td>128</td>\n",
       "      <td>986</td>\n",
       "      <td>7.703125</td>\n",
       "      <td>30</td>\n",
       "      <td>29</td>\n",
       "      <td>1</td>\n",
       "      <td>0</td>\n",
       "      <td>0</td>\n",
       "      <td>0</td>\n",
       "      <td>0</td>\n",
       "      <td>...</td>\n",
       "      <td>0</td>\n",
       "      <td>0</td>\n",
       "      <td>0</td>\n",
       "      <td>0</td>\n",
       "      <td>0</td>\n",
       "      <td>0</td>\n",
       "      <td>0</td>\n",
       "      <td>0</td>\n",
       "      <td>0</td>\n",
       "      <td>63</td>\n",
       "    </tr>\n",
       "    <tr>\n",
       "      <th>26</th>\n",
       "      <td>149</td>\n",
       "      <td>986</td>\n",
       "      <td>6.617450</td>\n",
       "      <td>42</td>\n",
       "      <td>48</td>\n",
       "      <td>1</td>\n",
       "      <td>0</td>\n",
       "      <td>0</td>\n",
       "      <td>0</td>\n",
       "      <td>0</td>\n",
       "      <td>...</td>\n",
       "      <td>0</td>\n",
       "      <td>0</td>\n",
       "      <td>0</td>\n",
       "      <td>0</td>\n",
       "      <td>0</td>\n",
       "      <td>0</td>\n",
       "      <td>0</td>\n",
       "      <td>0</td>\n",
       "      <td>0</td>\n",
       "      <td>32</td>\n",
       "    </tr>\n",
       "  </tbody>\n",
       "</table>\n",
       "<p>5 rows × 606 columns</p>\n",
       "</div>"
      ],
      "text/plain": [
       "    AIR_TIME  DISTANCE     SPEED  CET-AT  AET-AT  0  1  2  3  4 ...   285  \\\n",
       "4        137       986  7.197080      21      34  1  0  0  0  0 ...     0   \n",
       "15       123       986  8.016260      35      22  1  0  0  0  0 ...     0   \n",
       "22       147       986  6.707483      11      26  1  0  0  0  0 ...     0   \n",
       "24       128       986  7.703125      30      29  1  0  0  0  0 ...     0   \n",
       "26       149       986  6.617450      42      48  1  0  0  0  0 ...     0   \n",
       "\n",
       "    286  287  288  289  290  291  292  293   TD  \n",
       "4     0    0    0    0    0    0    0    0  113  \n",
       "15    0    0    0    0    0    0    0    0   21  \n",
       "22    0    0    0    0    0    0    0    0   15  \n",
       "24    0    0    0    0    0    0    0    0   63  \n",
       "26    0    0    0    0    0    0    0    0   32  \n",
       "\n",
       "[5 rows x 606 columns]"
      ]
     },
     "execution_count": 40,
     "metadata": {},
     "output_type": "execute_result"
    }
   ],
   "source": [
    "Predictors_d.head()"
   ]
  },
  {
   "cell_type": "code",
   "execution_count": 41,
   "metadata": {
    "collapsed": false
   },
   "outputs": [
    {
     "data": {
      "text/plain": [
       "((56705, 605), (14177, 605), (56705, 1), (14177, 1))"
      ]
     },
     "execution_count": 41,
     "metadata": {},
     "output_type": "execute_result"
    }
   ],
   "source": [
    "# Prepare Predictors and Predictand (delay time)\n",
    "temp1 = Predictors\n",
    "temp1['TD'] = Flight_summary['TOTAL_DELAY']\n",
    "Predictors_d = temp1.dropna(subset = ['TD'])\n",
    "del Predictors_d['TD']\n",
    "\n",
    "temp2 = Flight_summary[['TOTAL_DELAY']]\n",
    "Predictand_d = temp2.dropna(subset = ['TOTAL_DELAY'])\n",
    "Predictors_d.shape, Predictand_d.shape\n",
    "PredictorsTrain_d, PredictorsTest_d, PredictandTrain_d, PredictandTest_d = train_test_split(Predictors_d, Predictand_d, test_size = 0.2)\n",
    "PredictorsTrain_d.shape, PredictorsTest_d.shape, PredictandTrain_d.shape, PredictandTest_d.shape"
   ]
  },
  {
   "cell_type": "code",
   "execution_count": 42,
   "metadata": {
    "collapsed": true
   },
   "outputs": [],
   "source": [
    "# Create model to predict delay time\n",
    "model2 = linear_model.LinearRegression()\n",
    "model2.fit(PredictorsTrain_d,PredictandTrain_d)\n",
    "Result2_Train = model2.predict(PredictorsTrain_d)\n",
    "Result2_Test = model2.predict(PredictorsTest_d)"
   ]
  },
  {
   "cell_type": "code",
   "execution_count": 49,
   "metadata": {
    "collapsed": false
   },
   "outputs": [
    {
     "data": {
      "text/plain": [
       "((0, 1000), (0, 1000))"
      ]
     },
     "execution_count": 49,
     "metadata": {},
     "output_type": "execute_result"
    },
    {
     "name": "stderr",
     "output_type": "stream",
     "text": [
      "/Users/calvincheung/anaconda/lib/python3.4/site-packages/matplotlib/collections.py:590: FutureWarning: elementwise comparison failed; returning scalar instead, but in the future will perform elementwise comparison\n",
      "  if self._edgecolors == str('face'):\n"
     ]
    },
    {
     "data": {
      "image/png": "[encoded data removed]",
      "text/plain": [
       "<matplotlib.figure.Figure at 0x110eb29e8>"
      ]
     },
     "metadata": {},
     "output_type": "display_data"
    }
   ],
   "source": [
    "fig = plt.figure(figsize=(13,5))\n",
    "plt.subplot(1,2,1)\n",
    "plt.scatter(PredictandTrain_d,Result2_Train)\n",
    "plt.xlim(0,1000), plt.ylim(0,1000)\n",
    "plt.subplot(1,2,2)\n",
    "plt.scatter(PredictandTest_d,Result2_Test)\n",
    "plt.xlim(0,1000), plt.ylim(0,1000)"
   ]
  },
  {
   "cell_type": "code",
   "execution_count": null,
   "metadata": {
    "collapsed": true
   },
   "outputs": [],
   "source": []
  }
 ],
 "metadata": {
  "kernelspec": {
   "display_name": "Python 3",
   "language": "python",
   "name": "python3"
  },
  "language_info": {
   "codemirror_mode": {
    "name": "ipython",
    "version": 3
   },
   "file_extension": ".py",
   "mimetype": "text/x-python",
   "name": "python",
   "nbconvert_exporter": "python",
   "pygments_lexer": "ipython3",
   "version": "3.4.3"
  }
 },
 "nbformat": 4,
 "nbformat_minor": 0
}
